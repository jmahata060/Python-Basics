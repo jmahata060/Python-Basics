{
 "cells": [
  {
   "cell_type": "markdown",
   "metadata": {},
   "source": [
    " 1.\tWrite a Python program to print \"Hello Python\"?"
   ]
  },
  {
   "cell_type": "code",
   "execution_count": 1,
   "metadata": {},
   "outputs": [
    {
     "name": "stdout",
     "output_type": "stream",
     "text": [
      "Hello Python\n"
     ]
    }
   ],
   "source": [
    "#ANS:#ANS:\n",
    "print('Hello Python')"
   ]
  },
  {
   "cell_type": "markdown",
   "metadata": {},
   "source": [
    "2.\tWrite a Python program to do arithmetical operations addition and division.?"
   ]
  },
  {
   "cell_type": "code",
   "execution_count": 4,
   "metadata": {},
   "outputs": [
    {
     "name": "stdout",
     "output_type": "stream",
     "text": [
      "Enter value a: 24\n",
      "Enter value b: 2\n",
      "Addition result:  26\n",
      "Division result:  12.0\n"
     ]
    }
   ],
   "source": [
    "#ANS:\n",
    "a=int(input('Enter value a: '))\n",
    "b=int(input('Enter value b: '))\n",
    "add=a+b\n",
    "print('Addition result: ',add)\n",
    "div=a/b\n",
    "print('Division result: ',div)"
   ]
  },
  {
   "cell_type": "markdown",
   "metadata": {},
   "source": [
    "3.\tWrite a Python program to find the area of a triangle?"
   ]
  },
  {
   "cell_type": "code",
   "execution_count": 5,
   "metadata": {},
   "outputs": [
    {
     "name": "stdout",
     "output_type": "stream",
     "text": [
      "Enter triangle base value: 23\n",
      "Enter triangle hight value: 5\n",
      "Area of triangle is:  57.5\n"
     ]
    }
   ],
   "source": [
    "#ANS:\n",
    "a=int(input('Enter triangle base value: '))\n",
    "b=int(input('Enter triangle hight value: '))\n",
    "area=0.5*a*b\n",
    "print('Area of triangle is: ',area)\n",
    "\n"
   ]
  },
  {
   "cell_type": "markdown",
   "metadata": {},
   "source": [
    "4.\tWrite a Python program to swap two variables?"
   ]
  },
  {
   "cell_type": "code",
   "execution_count": 10,
   "metadata": {},
   "outputs": [
    {
     "name": "stdout",
     "output_type": "stream",
     "text": [
      "Enter value a: 24\n",
      "Enter value b: 21\n",
      "Before swap:\n",
      "a is: 24 ; b is: 21\n",
      "After Swap:\n",
      "a is: 21 ; b is: 24\n"
     ]
    }
   ],
   "source": [
    "#ANS:\n",
    "a=int(input('Enter value a: '))\n",
    "b=int(input('Enter value b: '))\n",
    "print('Before swap:')\n",
    "print('a is: {} ; b is: {}'.format(a,b))\n",
    "a,b=b,a\n",
    "print('After Swap:')\n",
    "print('a is: {} ; b is: {}'.format(a,b))"
   ]
  },
  {
   "cell_type": "markdown",
   "metadata": {},
   "source": [
    "5.\tWrite a Python program to generate a random number?"
   ]
  },
  {
   "cell_type": "code",
   "execution_count": 13,
   "metadata": {},
   "outputs": [
    {
     "name": "stdout",
     "output_type": "stream",
     "text": [
      "0.2774005828040004\n"
     ]
    }
   ],
   "source": [
    "#ANS:\n",
    "import random \n",
    "n=random.random()\n",
    "print(n)\n"
   ]
  },
  {
   "cell_type": "code",
   "execution_count": null,
   "metadata": {},
   "outputs": [],
   "source": []
  }
 ],
 "metadata": {
  "kernelspec": {
   "display_name": "Python 3",
   "language": "python",
   "name": "python3"
  },
  "language_info": {
   "codemirror_mode": {
    "name": "ipython",
    "version": 3
   },
   "file_extension": ".py",
   "mimetype": "text/x-python",
   "name": "python",
   "nbconvert_exporter": "python",
   "pygments_lexer": "ipython3",
   "version": "3.8.5"
  }
 },
 "nbformat": 4,
 "nbformat_minor": 4
}
