{
 "cells": [
  {
   "cell_type": "markdown",
   "metadata": {},
   "source": [
    "1.\tWrite a Python program to convert kilometers to miles?"
   ]
  },
  {
   "cell_type": "code",
   "execution_count": 3,
   "metadata": {},
   "outputs": [
    {
     "name": "stdout",
     "output_type": "stream",
     "text": [
      "Enter kilometers: 12\n",
      "Miles is:  7.46\n"
     ]
    }
   ],
   "source": [
    "a=int(input('Enter kilometers: '))\n",
    "m=round(a*0.621371,2)\n",
    "print('Miles is: ',m)"
   ]
  },
  {
   "cell_type": "markdown",
   "metadata": {},
   "source": [
    "2.\tWrite a Python program to convert Celsius to Fahrenheit?"
   ]
  },
  {
   "cell_type": "code",
   "execution_count": 4,
   "metadata": {},
   "outputs": [
    {
     "name": "stdout",
     "output_type": "stream",
     "text": [
      "Enter Celsius Temperature: 100\n",
      "Temperature in Fahrenheit:  212.0\n"
     ]
    }
   ],
   "source": [
    "a=int(input('Enter Celsius Temperature: '))\n",
    "f= ((a*9)/5)+32\n",
    "print('Temperature in Fahrenheit: ',f)"
   ]
  },
  {
   "cell_type": "markdown",
   "metadata": {},
   "source": [
    "3.\tWrite a Python program to display calendar?"
   ]
  },
  {
   "cell_type": "code",
   "execution_count": 5,
   "metadata": {},
   "outputs": [
    {
     "name": "stdout",
     "output_type": "stream",
     "text": [
      "Enter the Year: 2021\n",
      "Enter the Month value between 1 to 12: 3\n",
      "     March 2021\n",
      "Mo Tu We Th Fr Sa Su\n",
      " 1  2  3  4  5  6  7\n",
      " 8  9 10 11 12 13 14\n",
      "15 16 17 18 19 20 21\n",
      "22 23 24 25 26 27 28\n",
      "29 30 31\n",
      "\n"
     ]
    }
   ],
   "source": [
    "import calendar\n",
    "\n",
    "y=int(input('Enter the Year: '))\n",
    "m=int(input('Enter the Month value between 1 to 12: '))\n",
    "print(calendar.month(y,m))"
   ]
  },
  {
   "cell_type": "markdown",
   "metadata": {},
   "source": [
    "4.\tWrite a Python program to solve quadratic equation?"
   ]
  },
  {
   "cell_type": "code",
   "execution_count": 17,
   "metadata": {},
   "outputs": [
    {
     "name": "stdout",
     "output_type": "stream",
     "text": [
      "Enter X2 coefficient: 1\n",
      "Enter X coefficient: -5\n",
      "Enter c coefficient: -6\n",
      "X values are :  6.0 -1.0\n"
     ]
    }
   ],
   "source": [
    "import math\n",
    "\n",
    "a=int(input('Enter X2 coefficient: '))\n",
    "b=int(input('Enter X coefficient: '))\n",
    "c=int(input('Enter c coefficient: '))\n",
    "\n",
    "sd=((b*b)-(4*a*c))\n",
    "sr=math.sqrt(abs(sd))\n",
    "res1=(-b+sr)/2*a\n",
    "res2=(-b-sr)/2*a\n",
    "print('X values are : ',res1,res2)\n"
   ]
  },
  {
   "cell_type": "markdown",
   "metadata": {},
   "source": [
    "5.\tWrite a Python program to swap two variables without temp variable?"
   ]
  },
  {
   "cell_type": "code",
   "execution_count": 20,
   "metadata": {},
   "outputs": [
    {
     "name": "stdout",
     "output_type": "stream",
     "text": [
      "enter a value: 23\n",
      "enter b value: 45\n",
      "A is: 45  ;  B are: 23 \n"
     ]
    }
   ],
   "source": [
    "a=int(input('enter a value: '))\n",
    "b=int(input('enter b value: '))\n",
    "a=a+b\n",
    "b=a-b\n",
    "a=a-b\n",
    "print ('A is: {}  ;  B are: {} '.format(a,b))"
   ]
  },
  {
   "cell_type": "code",
   "execution_count": null,
   "metadata": {},
   "outputs": [],
   "source": []
  }
 ],
 "metadata": {
  "kernelspec": {
   "display_name": "Python 3",
   "language": "python",
   "name": "python3"
  },
  "language_info": {
   "codemirror_mode": {
    "name": "ipython",
    "version": 3
   },
   "file_extension": ".py",
   "mimetype": "text/x-python",
   "name": "python",
   "nbconvert_exporter": "python",
   "pygments_lexer": "ipython3",
   "version": "3.8.5"
  }
 },
 "nbformat": 4,
 "nbformat_minor": 4
}
