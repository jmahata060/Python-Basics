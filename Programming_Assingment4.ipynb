{
 "cells": [
  {
   "cell_type": "markdown",
   "metadata": {},
   "source": [
    "1.\tWrite a Python Program to Find the Factorial of a Number?"
   ]
  },
  {
   "cell_type": "code",
   "execution_count": 1,
   "metadata": {},
   "outputs": [
    {
     "name": "stdout",
     "output_type": "stream",
     "text": [
      "Enter number: 6\n"
     ]
    },
    {
     "data": {
      "text/plain": [
       "720"
      ]
     },
     "execution_count": 1,
     "metadata": {},
     "output_type": "execute_result"
    }
   ],
   "source": [
    "n=int(input('Enter number: '))\n",
    "def factorial(n):\n",
    "    if n==0:\n",
    "        return 1\n",
    "    return n*factorial(n-1)\n",
    "factorial(n)"
   ]
  },
  {
   "cell_type": "markdown",
   "metadata": {},
   "source": [
    "2.\tWrite a Python Program to Display the multiplication Table?"
   ]
  },
  {
   "cell_type": "code",
   "execution_count": 2,
   "metadata": {},
   "outputs": [
    {
     "name": "stdout",
     "output_type": "stream",
     "text": [
      "Enter Number: 5\n",
      "1*5=5\n",
      "2*5=10\n",
      "3*5=15\n",
      "4*5=20\n",
      "5*5=25\n",
      "6*5=30\n",
      "7*5=35\n",
      "8*5=40\n",
      "9*5=45\n",
      "10*5=50\n"
     ]
    }
   ],
   "source": [
    "n=int(input('Enter Number: '))\n",
    "for i in range(1,11):\n",
    "    res=i*n\n",
    "    print('{}*{}={}'.format(i,n,res))"
   ]
  },
  {
   "cell_type": "markdown",
   "metadata": {},
   "source": [
    "3.\tWrite a Python Program to Print the Fibonacci sequence?"
   ]
  },
  {
   "cell_type": "code",
   "execution_count": 3,
   "metadata": {},
   "outputs": [
    {
     "name": "stdout",
     "output_type": "stream",
     "text": [
      "Enter range of Fibonacci sequence: 10\n",
      "Fibonacci Sequence: \n",
      "0 1 1 2 3 5 8 13 21 34 "
     ]
    }
   ],
   "source": [
    "n=int(input('Enter range of Fibonacci sequence: '))\n",
    "print('Fibonacci Sequence: ')\n",
    "def fibonacci(n):\n",
    "    a=0\n",
    "    b=1\n",
    "    for i in range(n):\n",
    "        print(a,end=' ')\n",
    "        a,b=b,a+b\n",
    "        \n",
    "fibonacci(n)\n",
    "    \n",
    "    "
   ]
  },
  {
   "cell_type": "markdown",
   "metadata": {},
   "source": [
    "4.\tWrite a Python Program to Check Armstrong Number?"
   ]
  },
  {
   "cell_type": "code",
   "execution_count": 27,
   "metadata": {},
   "outputs": [
    {
     "name": "stdout",
     "output_type": "stream",
     "text": [
      "Enter Armstrong Number: 1634\n",
      "This is a Armstrong number:  1634\n"
     ]
    }
   ],
   "source": [
    "n=input('Enter Armstrong Number: ')\n",
    "p=len(n)\n",
    "m=int(n)\n",
    "def armstrong(m):\n",
    "    if m==0:\n",
    "        return 0\n",
    "    a=m%10\n",
    "    b=m//10\n",
    "    return pow(a,p)+armstrong(b)\n",
    "res=armstrong(m)\n",
    "if m==res:\n",
    "    print('This is a Armstrong number: ',m)\n",
    "else:\n",
    "    print('This is not a Armstrong number: ',m)\n",
    "    \n",
    "    "
   ]
  },
  {
   "cell_type": "markdown",
   "metadata": {},
   "source": [
    "5.\tWrite a Python Program to Find Armstrong Number in an Interval?\n"
   ]
  },
  {
   "cell_type": "code",
   "execution_count": 16,
   "metadata": {},
   "outputs": [
    {
     "name": "stdout",
     "output_type": "stream",
     "text": [
      "Starting Interval: 150\n",
      "Closing Interval: 2000\n",
      "Armstrong Numbers: \n",
      "153 370 371 407 1634 "
     ]
    }
   ],
   "source": [
    "n=int(input('Starting Interval: '))\n",
    "m=int(input('Closing Interval: '))\n",
    "def armstro(p,q):\n",
    "    if p==0:\n",
    "        return 0\n",
    "    a=p%10\n",
    "    b=p//10\n",
    "    return pow(a,q)+armstro(b,q)\n",
    "print('Armstrong Numbers: ')\n",
    "for i in range(n,m+1):\n",
    "    r=len(str(i))\n",
    "    res=armstro(i,r)\n",
    "    if i==res:\n",
    "        print(i,end=' ')\n",
    "        "
   ]
  },
  {
   "cell_type": "markdown",
   "metadata": {},
   "source": [
    "6.\tWrite a Python Program to Find the Sum of Natural Numbers?"
   ]
  },
  {
   "cell_type": "code",
   "execution_count": 3,
   "metadata": {},
   "outputs": [
    {
     "name": "stdout",
     "output_type": "stream",
     "text": [
      "Enter Range of Natural Numbers: 9\n",
      "Sum of Natural Number:  45.0\n"
     ]
    }
   ],
   "source": [
    "n=int(input('Enter Range of Natural Numbers: '))\n",
    "s=(n*(n+1))/2\n",
    "print('Sum of Natural Number: ',s)"
   ]
  },
  {
   "cell_type": "code",
   "execution_count": null,
   "metadata": {},
   "outputs": [],
   "source": []
  }
 ],
 "metadata": {
  "kernelspec": {
   "display_name": "Python 3",
   "language": "python",
   "name": "python3"
  },
  "language_info": {
   "codemirror_mode": {
    "name": "ipython",
    "version": 3
   },
   "file_extension": ".py",
   "mimetype": "text/x-python",
   "name": "python",
   "nbconvert_exporter": "python",
   "pygments_lexer": "ipython3",
   "version": "3.8.5"
  }
 },
 "nbformat": 4,
 "nbformat_minor": 4
}
